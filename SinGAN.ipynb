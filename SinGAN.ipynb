{
  "nbformat": 4,
  "nbformat_minor": 0,
  "metadata": {
    "colab": {
      "name": "SinGAN.ipynb",
      "provenance": [],
      "authorship_tag": "ABX9TyNyOTw3EnGbJPrRnnE6NPVo",
      "include_colab_link": true
    },
    "kernelspec": {
      "name": "python3",
      "display_name": "Python 3"
    },
    "language_info": {
      "name": "python"
    },
    "accelerator": "GPU"
  },
  "cells": [
    {
      "cell_type": "markdown",
      "metadata": {
        "id": "view-in-github",
        "colab_type": "text"
      },
      "source": [
        "<a href=\"https://colab.research.google.com/github/nulllpointer/Thesis/blob/master/SinGAN.ipynb\" target=\"_parent\"><img src=\"https://colab.research.google.com/assets/colab-badge.svg\" alt=\"Open In Colab\"/></a>"
      ]
    },
    {
      "cell_type": "code",
      "metadata": {
        "colab": {
          "base_uri": "https://localhost:8080/"
        },
        "id": "OFgmFZPA8MNi",
        "outputId": "92f57b26-10fd-4660-8279-e114e41d9efd"
      },
      "source": [
        "%cd /root\n",
        "!ls"
      ],
      "execution_count": 9,
      "outputs": [
        {
          "output_type": "stream",
          "text": [
            "/root\n",
            "SinGAN\n"
          ],
          "name": "stdout"
        }
      ]
    },
    {
      "cell_type": "code",
      "metadata": {
        "colab": {
          "base_uri": "https://localhost:8080/"
        },
        "id": "3EgzCdjT8ij6",
        "outputId": "a270cdd7-4a53-485c-e606-568252c6ecf7"
      },
      "source": [
        "!git clone https://github.com/nulllpointer/Thesis.git"
      ],
      "execution_count": 10,
      "outputs": [
        {
          "output_type": "stream",
          "text": [
            "fatal: destination path 'SinGAN' already exists and is not an empty directory.\n"
          ],
          "name": "stdout"
        }
      ]
    },
    {
      "cell_type": "code",
      "metadata": {
        "colab": {
          "base_uri": "https://localhost:8080/"
        },
        "id": "8NOGkAzc-wXi",
        "outputId": "8b87edb2-13ec-4434-ffa9-141bff027fc8"
      },
      "source": [
        "!ls\n",
        "%cd SinGAN"
      ],
      "execution_count": 12,
      "outputs": [
        {
          "output_type": "stream",
          "text": [
            "SinGAN\n",
            "/root/SinGAN\n"
          ],
          "name": "stdout"
        }
      ]
    },
    {
      "cell_type": "code",
      "metadata": {
        "colab": {
          "base_uri": "https://localhost:8080/"
        },
        "id": "sNGomJpy_CH7",
        "outputId": "a337288b-3593-43f9-d87b-e2192a39c51d"
      },
      "source": [
        "!ls"
      ],
      "execution_count": 15,
      "outputs": [
        {
          "output_type": "stream",
          "text": [
            "animation.py  editing.py\tLICENSE.txt\t   README.md\t     SinGAN\n",
            "config.py     harmonization.py\tmain_train.py\t   requirements.txt  SR.py\n",
            "config.pyc    imgs\t\tpaint2image.py\t   SIFID\n",
            "Downloads     Input\t\trandom_samples.py  SIFID.npy\n"
          ],
          "name": "stdout"
        }
      ]
    },
    {
      "cell_type": "code",
      "metadata": {
        "colab": {
          "base_uri": "https://localhost:8080/"
        },
        "id": "yMkPi1s-_DjV",
        "outputId": "2a5019a5-6495-45a2-d463-71e9c97ce52f"
      },
      "source": [
        "!python -m pip install -r requirements.txt"
      ],
      "execution_count": 17,
      "outputs": [
        {
          "output_type": "stream",
          "text": [
            "Requirement already satisfied: matplotlib in /usr/local/lib/python3.7/dist-packages (from -r requirements.txt (line 1)) (3.2.2)\n",
            "Requirement already satisfied: scikit-image in /usr/local/lib/python3.7/dist-packages (from -r requirements.txt (line 2)) (0.16.2)\n",
            "Requirement already satisfied: scikit-learn in /usr/local/lib/python3.7/dist-packages (from -r requirements.txt (line 3)) (0.22.2.post1)\n",
            "Requirement already satisfied: scipy in /usr/local/lib/python3.7/dist-packages (from -r requirements.txt (line 4)) (1.4.1)\n",
            "Requirement already satisfied: numpy in /usr/local/lib/python3.7/dist-packages (from -r requirements.txt (line 5)) (1.19.5)\n",
            "Collecting torch==1.4.0\n",
            "  Downloading torch-1.4.0-cp37-cp37m-manylinux1_x86_64.whl (753.4 MB)\n",
            "\u001b[K     |████████████████████████████████| 753.4 MB 7.0 kB/s \n",
            "\u001b[?25hCollecting torchvision==0.5.0\n",
            "  Downloading torchvision-0.5.0-cp37-cp37m-manylinux1_x86_64.whl (4.0 MB)\n",
            "\u001b[K     |████████████████████████████████| 4.0 MB 54.0 MB/s \n",
            "\u001b[?25hRequirement already satisfied: pillow>=4.1.1 in /usr/local/lib/python3.7/dist-packages (from torchvision==0.5.0->-r requirements.txt (line 7)) (7.1.2)\n",
            "Requirement already satisfied: six in /usr/local/lib/python3.7/dist-packages (from torchvision==0.5.0->-r requirements.txt (line 7)) (1.15.0)\n",
            "Requirement already satisfied: cycler>=0.10 in /usr/local/lib/python3.7/dist-packages (from matplotlib->-r requirements.txt (line 1)) (0.10.0)\n",
            "Requirement already satisfied: kiwisolver>=1.0.1 in /usr/local/lib/python3.7/dist-packages (from matplotlib->-r requirements.txt (line 1)) (1.3.1)\n",
            "Requirement already satisfied: python-dateutil>=2.1 in /usr/local/lib/python3.7/dist-packages (from matplotlib->-r requirements.txt (line 1)) (2.8.2)\n",
            "Requirement already satisfied: pyparsing!=2.0.4,!=2.1.2,!=2.1.6,>=2.0.1 in /usr/local/lib/python3.7/dist-packages (from matplotlib->-r requirements.txt (line 1)) (2.4.7)\n",
            "Requirement already satisfied: imageio>=2.3.0 in /usr/local/lib/python3.7/dist-packages (from scikit-image->-r requirements.txt (line 2)) (2.4.1)\n",
            "Requirement already satisfied: networkx>=2.0 in /usr/local/lib/python3.7/dist-packages (from scikit-image->-r requirements.txt (line 2)) (2.6.2)\n",
            "Requirement already satisfied: PyWavelets>=0.4.0 in /usr/local/lib/python3.7/dist-packages (from scikit-image->-r requirements.txt (line 2)) (1.1.1)\n",
            "Requirement already satisfied: joblib>=0.11 in /usr/local/lib/python3.7/dist-packages (from scikit-learn->-r requirements.txt (line 3)) (1.0.1)\n",
            "Installing collected packages: torch, torchvision\n",
            "  Attempting uninstall: torch\n",
            "    Found existing installation: torch 1.9.0+cu102\n",
            "    Uninstalling torch-1.9.0+cu102:\n",
            "      Successfully uninstalled torch-1.9.0+cu102\n",
            "  Attempting uninstall: torchvision\n",
            "    Found existing installation: torchvision 0.10.0+cu102\n",
            "    Uninstalling torchvision-0.10.0+cu102:\n",
            "      Successfully uninstalled torchvision-0.10.0+cu102\n",
            "\u001b[31mERROR: pip's dependency resolver does not currently take into account all the packages that are installed. This behaviour is the source of the following dependency conflicts.\n",
            "torchtext 0.10.0 requires torch==1.9.0, but you have torch 1.4.0 which is incompatible.\u001b[0m\n",
            "Successfully installed torch-1.4.0 torchvision-0.5.0\n"
          ],
          "name": "stdout"
        }
      ]
    },
    {
      "cell_type": "code",
      "metadata": {
        "colab": {
          "base_uri": "https://localhost:8080/"
        },
        "id": "scDh9AU1_H0J",
        "outputId": "58c59a9d-217c-4394-d745-fb6addb5ac9d"
      },
      "source": [
        "\n",
        "!python main_train.py --input_name DSC_0400.JPG"
      ],
      "execution_count": null,
      "outputs": [
        {
          "output_type": "stream",
          "text": [
            "Random Seed:  8600\n",
            "GeneratorConcatSkip2CleanAdd(\n",
            "  (head): ConvBlock(\n",
            "    (conv): Conv2d(3, 32, kernel_size=(3, 3), stride=(1, 1))\n",
            "    (norm): BatchNorm2d(32, eps=1e-05, momentum=0.1, affine=True, track_running_stats=True)\n",
            "    (LeakyRelu): LeakyReLU(negative_slope=0.2, inplace=True)\n",
            "  )\n",
            "  (body): Sequential(\n",
            "    (block1): ConvBlock(\n",
            "      (conv): Conv2d(32, 32, kernel_size=(3, 3), stride=(1, 1))\n",
            "      (norm): BatchNorm2d(32, eps=1e-05, momentum=0.1, affine=True, track_running_stats=True)\n",
            "      (LeakyRelu): LeakyReLU(negative_slope=0.2, inplace=True)\n",
            "    )\n",
            "    (block2): ConvBlock(\n",
            "      (conv): Conv2d(32, 32, kernel_size=(3, 3), stride=(1, 1))\n",
            "      (norm): BatchNorm2d(32, eps=1e-05, momentum=0.1, affine=True, track_running_stats=True)\n",
            "      (LeakyRelu): LeakyReLU(negative_slope=0.2, inplace=True)\n",
            "    )\n",
            "    (block3): ConvBlock(\n",
            "      (conv): Conv2d(32, 32, kernel_size=(3, 3), stride=(1, 1))\n",
            "      (norm): BatchNorm2d(32, eps=1e-05, momentum=0.1, affine=True, track_running_stats=True)\n",
            "      (LeakyRelu): LeakyReLU(negative_slope=0.2, inplace=True)\n",
            "    )\n",
            "  )\n",
            "  (tail): Sequential(\n",
            "    (0): Conv2d(32, 3, kernel_size=(3, 3), stride=(1, 1))\n",
            "    (1): Tanh()\n",
            "  )\n",
            ")\n",
            "WDiscriminator(\n",
            "  (head): ConvBlock(\n",
            "    (conv): Conv2d(3, 32, kernel_size=(3, 3), stride=(1, 1))\n",
            "    (norm): BatchNorm2d(32, eps=1e-05, momentum=0.1, affine=True, track_running_stats=True)\n",
            "    (LeakyRelu): LeakyReLU(negative_slope=0.2, inplace=True)\n",
            "  )\n",
            "  (body): Sequential(\n",
            "    (block1): ConvBlock(\n",
            "      (conv): Conv2d(32, 32, kernel_size=(3, 3), stride=(1, 1))\n",
            "      (norm): BatchNorm2d(32, eps=1e-05, momentum=0.1, affine=True, track_running_stats=True)\n",
            "      (LeakyRelu): LeakyReLU(negative_slope=0.2, inplace=True)\n",
            "    )\n",
            "    (block2): ConvBlock(\n",
            "      (conv): Conv2d(32, 32, kernel_size=(3, 3), stride=(1, 1))\n",
            "      (norm): BatchNorm2d(32, eps=1e-05, momentum=0.1, affine=True, track_running_stats=True)\n",
            "      (LeakyRelu): LeakyReLU(negative_slope=0.2, inplace=True)\n",
            "    )\n",
            "    (block3): ConvBlock(\n",
            "      (conv): Conv2d(32, 32, kernel_size=(3, 3), stride=(1, 1))\n",
            "      (norm): BatchNorm2d(32, eps=1e-05, momentum=0.1, affine=True, track_running_stats=True)\n",
            "      (LeakyRelu): LeakyReLU(negative_slope=0.2, inplace=True)\n",
            "    )\n",
            "  )\n",
            "  (tail): Conv2d(32, 1, kernel_size=(3, 3), stride=(1, 1))\n",
            ")\n",
            "scale 0:[0/2000]\n",
            "scale 0:[25/2000]\n",
            "scale 0:[50/2000]\n",
            "scale 0:[75/2000]\n",
            "scale 0:[100/2000]\n",
            "scale 0:[125/2000]\n",
            "scale 0:[150/2000]\n",
            "scale 0:[175/2000]\n",
            "scale 0:[200/2000]\n",
            "scale 0:[225/2000]\n",
            "scale 0:[250/2000]\n",
            "scale 0:[275/2000]\n",
            "scale 0:[300/2000]\n",
            "scale 0:[325/2000]\n",
            "scale 0:[350/2000]\n",
            "scale 0:[375/2000]\n",
            "scale 0:[400/2000]\n",
            "scale 0:[425/2000]\n",
            "scale 0:[450/2000]\n",
            "scale 0:[475/2000]\n",
            "scale 0:[500/2000]\n",
            "scale 0:[525/2000]\n",
            "scale 0:[550/2000]\n",
            "scale 0:[575/2000]\n",
            "scale 0:[600/2000]\n",
            "scale 0:[625/2000]\n",
            "scale 0:[650/2000]\n",
            "scale 0:[675/2000]\n",
            "scale 0:[700/2000]\n",
            "scale 0:[725/2000]\n",
            "scale 0:[750/2000]\n",
            "scale 0:[775/2000]\n",
            "scale 0:[800/2000]\n",
            "scale 0:[825/2000]\n",
            "scale 0:[850/2000]\n",
            "scale 0:[875/2000]\n",
            "scale 0:[900/2000]\n",
            "scale 0:[925/2000]\n",
            "scale 0:[950/2000]\n",
            "scale 0:[975/2000]\n",
            "scale 0:[1000/2000]\n",
            "scale 0:[1025/2000]\n",
            "scale 0:[1050/2000]\n",
            "scale 0:[1075/2000]\n",
            "scale 0:[1100/2000]\n",
            "scale 0:[1125/2000]\n",
            "scale 0:[1150/2000]\n",
            "scale 0:[1175/2000]\n",
            "scale 0:[1200/2000]\n",
            "scale 0:[1225/2000]\n",
            "scale 0:[1250/2000]\n",
            "scale 0:[1275/2000]\n",
            "scale 0:[1300/2000]\n",
            "scale 0:[1325/2000]\n",
            "scale 0:[1350/2000]\n",
            "scale 0:[1375/2000]\n",
            "scale 0:[1400/2000]\n",
            "scale 0:[1425/2000]\n",
            "scale 0:[1450/2000]\n",
            "scale 0:[1475/2000]\n",
            "scale 0:[1500/2000]\n",
            "scale 0:[1525/2000]\n",
            "scale 0:[1550/2000]\n",
            "scale 0:[1575/2000]\n",
            "scale 0:[1600/2000]\n",
            "scale 0:[1625/2000]\n",
            "scale 0:[1650/2000]\n",
            "scale 0:[1675/2000]\n",
            "scale 0:[1700/2000]\n",
            "scale 0:[1725/2000]\n",
            "scale 0:[1750/2000]\n",
            "scale 0:[1775/2000]\n",
            "scale 0:[1800/2000]\n",
            "scale 0:[1825/2000]\n"
          ],
          "name": "stdout"
        }
      ]
    },
    {
      "cell_type": "code",
      "metadata": {
        "colab": {
          "base_uri": "https://localhost:8080/"
        },
        "id": "j3V-rW4vLBsf",
        "outputId": "86e97644-2a3c-4864-a6b1-7c1fd7c97091"
      },
      "source": [
        "!python random_samples.py --input_name 33039_LR.png  --mode random_samples_arbitrary_sizes --scale_h 1 --scale_v 1"
      ],
      "execution_count": 22,
      "outputs": [
        {
          "output_type": "stream",
          "text": [
            "Random Seed:  9099\n"
          ],
          "name": "stdout"
        }
      ]
    }
  ]
}