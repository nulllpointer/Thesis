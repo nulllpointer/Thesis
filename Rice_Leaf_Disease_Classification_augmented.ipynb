{
  "nbformat": 4,
  "nbformat_minor": 0,
  "metadata": {
    "colab": {
      "name": "Plant_Classification_Fast_AI.ipynb",
      "provenance": [],
      "collapsed_sections": [],
      "toc_visible": true,
      "include_colab_link": true
    },
    "kernelspec": {
      "name": "python3",
      "display_name": "Python 3"
    },
    "accelerator": "GPU",
    "widgets": {
      "application/vnd.jupyter.widget-state+json": {
        "33a473d6181d4b4c8d5694edb42d841d": {
          "model_module": "@jupyter-widgets/controls",
          "model_name": "HBoxModel",
          "model_module_version": "1.5.0",
          "state": {
            "_view_name": "HBoxView",
            "_dom_classes": [],
            "_model_name": "HBoxModel",
            "_view_module": "@jupyter-widgets/controls",
            "_model_module_version": "1.5.0",
            "_view_count": null,
            "_view_module_version": "1.5.0",
            "box_style": "",
            "layout": "IPY_MODEL_938fc955b7f442bf8d653c24ccf70913",
            "_model_module": "@jupyter-widgets/controls",
            "children": [
              "IPY_MODEL_4e3f67b6da13438a9501fcd042b23fec",
              "IPY_MODEL_02f42f487c914dedbafbb370bb774f30",
              "IPY_MODEL_1704abb8e4c44641a7a59a9e17a81363"
            ]
          }
        },
        "938fc955b7f442bf8d653c24ccf70913": {
          "model_module": "@jupyter-widgets/base",
          "model_name": "LayoutModel",
          "model_module_version": "1.2.0",
          "state": {
            "_view_name": "LayoutView",
            "grid_template_rows": null,
            "right": null,
            "justify_content": null,
            "_view_module": "@jupyter-widgets/base",
            "overflow": null,
            "_model_module_version": "1.2.0",
            "_view_count": null,
            "flex_flow": null,
            "width": null,
            "min_width": null,
            "border": null,
            "align_items": null,
            "bottom": null,
            "_model_module": "@jupyter-widgets/base",
            "top": null,
            "grid_column": null,
            "overflow_y": null,
            "overflow_x": null,
            "grid_auto_flow": null,
            "grid_area": null,
            "grid_template_columns": null,
            "flex": null,
            "_model_name": "LayoutModel",
            "justify_items": null,
            "grid_row": null,
            "max_height": null,
            "align_content": null,
            "visibility": null,
            "align_self": null,
            "height": null,
            "min_height": null,
            "padding": null,
            "grid_auto_rows": null,
            "grid_gap": null,
            "max_width": null,
            "order": null,
            "_view_module_version": "1.2.0",
            "grid_template_areas": null,
            "object_position": null,
            "object_fit": null,
            "grid_auto_columns": null,
            "margin": null,
            "display": null,
            "left": null
          }
        },
        "4e3f67b6da13438a9501fcd042b23fec": {
          "model_module": "@jupyter-widgets/controls",
          "model_name": "HTMLModel",
          "model_module_version": "1.5.0",
          "state": {
            "_view_name": "HTMLView",
            "style": "IPY_MODEL_24f9debf600c437fbde882c3adaf7ec9",
            "_dom_classes": [],
            "description": "",
            "_model_name": "HTMLModel",
            "placeholder": "​",
            "_view_module": "@jupyter-widgets/controls",
            "_model_module_version": "1.5.0",
            "value": "100%",
            "_view_count": null,
            "_view_module_version": "1.5.0",
            "description_tooltip": null,
            "_model_module": "@jupyter-widgets/controls",
            "layout": "IPY_MODEL_c0d0419a2a5647749fc7bd5924328d15"
          }
        },
        "02f42f487c914dedbafbb370bb774f30": {
          "model_module": "@jupyter-widgets/controls",
          "model_name": "FloatProgressModel",
          "model_module_version": "1.5.0",
          "state": {
            "_view_name": "ProgressView",
            "style": "IPY_MODEL_5115f9661ed94fed8ea70f3b50f9b906",
            "_dom_classes": [],
            "description": "",
            "_model_name": "FloatProgressModel",
            "bar_style": "success",
            "max": 81131730,
            "_view_module": "@jupyter-widgets/controls",
            "_model_module_version": "1.5.0",
            "value": 81131730,
            "_view_count": null,
            "_view_module_version": "1.5.0",
            "orientation": "horizontal",
            "min": 0,
            "description_tooltip": null,
            "_model_module": "@jupyter-widgets/controls",
            "layout": "IPY_MODEL_cc0624626a3c4ab0bce72466f2b3d183"
          }
        },
        "1704abb8e4c44641a7a59a9e17a81363": {
          "model_module": "@jupyter-widgets/controls",
          "model_name": "HTMLModel",
          "model_module_version": "1.5.0",
          "state": {
            "_view_name": "HTMLView",
            "style": "IPY_MODEL_e224788a06ca432da41661025e01b4b6",
            "_dom_classes": [],
            "description": "",
            "_model_name": "HTMLModel",
            "placeholder": "​",
            "_view_module": "@jupyter-widgets/controls",
            "_model_module_version": "1.5.0",
            "value": " 77.4M/77.4M [00:01&lt;00:00, 84.3MB/s]",
            "_view_count": null,
            "_view_module_version": "1.5.0",
            "description_tooltip": null,
            "_model_module": "@jupyter-widgets/controls",
            "layout": "IPY_MODEL_8d7c7c7b67f54384a9024fdb61c4cc8f"
          }
        },
        "24f9debf600c437fbde882c3adaf7ec9": {
          "model_module": "@jupyter-widgets/controls",
          "model_name": "DescriptionStyleModel",
          "model_module_version": "1.5.0",
          "state": {
            "_view_name": "StyleView",
            "_model_name": "DescriptionStyleModel",
            "description_width": "",
            "_view_module": "@jupyter-widgets/base",
            "_model_module_version": "1.5.0",
            "_view_count": null,
            "_view_module_version": "1.2.0",
            "_model_module": "@jupyter-widgets/controls"
          }
        },
        "c0d0419a2a5647749fc7bd5924328d15": {
          "model_module": "@jupyter-widgets/base",
          "model_name": "LayoutModel",
          "model_module_version": "1.2.0",
          "state": {
            "_view_name": "LayoutView",
            "grid_template_rows": null,
            "right": null,
            "justify_content": null,
            "_view_module": "@jupyter-widgets/base",
            "overflow": null,
            "_model_module_version": "1.2.0",
            "_view_count": null,
            "flex_flow": null,
            "width": null,
            "min_width": null,
            "border": null,
            "align_items": null,
            "bottom": null,
            "_model_module": "@jupyter-widgets/base",
            "top": null,
            "grid_column": null,
            "overflow_y": null,
            "overflow_x": null,
            "grid_auto_flow": null,
            "grid_area": null,
            "grid_template_columns": null,
            "flex": null,
            "_model_name": "LayoutModel",
            "justify_items": null,
            "grid_row": null,
            "max_height": null,
            "align_content": null,
            "visibility": null,
            "align_self": null,
            "height": null,
            "min_height": null,
            "padding": null,
            "grid_auto_rows": null,
            "grid_gap": null,
            "max_width": null,
            "order": null,
            "_view_module_version": "1.2.0",
            "grid_template_areas": null,
            "object_position": null,
            "object_fit": null,
            "grid_auto_columns": null,
            "margin": null,
            "display": null,
            "left": null
          }
        },
        "5115f9661ed94fed8ea70f3b50f9b906": {
          "model_module": "@jupyter-widgets/controls",
          "model_name": "ProgressStyleModel",
          "model_module_version": "1.5.0",
          "state": {
            "_view_name": "StyleView",
            "_model_name": "ProgressStyleModel",
            "description_width": "",
            "_view_module": "@jupyter-widgets/base",
            "_model_module_version": "1.5.0",
            "_view_count": null,
            "_view_module_version": "1.2.0",
            "bar_color": null,
            "_model_module": "@jupyter-widgets/controls"
          }
        },
        "cc0624626a3c4ab0bce72466f2b3d183": {
          "model_module": "@jupyter-widgets/base",
          "model_name": "LayoutModel",
          "model_module_version": "1.2.0",
          "state": {
            "_view_name": "LayoutView",
            "grid_template_rows": null,
            "right": null,
            "justify_content": null,
            "_view_module": "@jupyter-widgets/base",
            "overflow": null,
            "_model_module_version": "1.2.0",
            "_view_count": null,
            "flex_flow": null,
            "width": null,
            "min_width": null,
            "border": null,
            "align_items": null,
            "bottom": null,
            "_model_module": "@jupyter-widgets/base",
            "top": null,
            "grid_column": null,
            "overflow_y": null,
            "overflow_x": null,
            "grid_auto_flow": null,
            "grid_area": null,
            "grid_template_columns": null,
            "flex": null,
            "_model_name": "LayoutModel",
            "justify_items": null,
            "grid_row": null,
            "max_height": null,
            "align_content": null,
            "visibility": null,
            "align_self": null,
            "height": null,
            "min_height": null,
            "padding": null,
            "grid_auto_rows": null,
            "grid_gap": null,
            "max_width": null,
            "order": null,
            "_view_module_version": "1.2.0",
            "grid_template_areas": null,
            "object_position": null,
            "object_fit": null,
            "grid_auto_columns": null,
            "margin": null,
            "display": null,
            "left": null
          }
        },
        "e224788a06ca432da41661025e01b4b6": {
          "model_module": "@jupyter-widgets/controls",
          "model_name": "DescriptionStyleModel",
          "model_module_version": "1.5.0",
          "state": {
            "_view_name": "StyleView",
            "_model_name": "DescriptionStyleModel",
            "description_width": "",
            "_view_module": "@jupyter-widgets/base",
            "_model_module_version": "1.5.0",
            "_view_count": null,
            "_view_module_version": "1.2.0",
            "_model_module": "@jupyter-widgets/controls"
          }
        },
        "8d7c7c7b67f54384a9024fdb61c4cc8f": {
          "model_module": "@jupyter-widgets/base",
          "model_name": "LayoutModel",
          "model_module_version": "1.2.0",
          "state": {
            "_view_name": "LayoutView",
            "grid_template_rows": null,
            "right": null,
            "justify_content": null,
            "_view_module": "@jupyter-widgets/base",
            "overflow": null,
            "_model_module_version": "1.2.0",
            "_view_count": null,
            "flex_flow": null,
            "width": null,
            "min_width": null,
            "border": null,
            "align_items": null,
            "bottom": null,
            "_model_module": "@jupyter-widgets/base",
            "top": null,
            "grid_column": null,
            "overflow_y": null,
            "overflow_x": null,
            "grid_auto_flow": null,
            "grid_area": null,
            "grid_template_columns": null,
            "flex": null,
            "_model_name": "LayoutModel",
            "justify_items": null,
            "grid_row": null,
            "max_height": null,
            "align_content": null,
            "visibility": null,
            "align_self": null,
            "height": null,
            "min_height": null,
            "padding": null,
            "grid_auto_rows": null,
            "grid_gap": null,
            "max_width": null,
            "order": null,
            "_view_module_version": "1.2.0",
            "grid_template_areas": null,
            "object_position": null,
            "object_fit": null,
            "grid_auto_columns": null,
            "margin": null,
            "display": null,
            "left": null
          }
        }
      }
    }
  },
  "cells": [
    {
      "cell_type": "markdown",
      "metadata": {
        "id": "view-in-github",
        "colab_type": "text"
      },
      "source": [
        "<a href=\"https://colab.research.google.com/github/nulllpointer/Thesis/blob/master/Rice_Leaf_Disease_Classification_augmented.ipynb\" target=\"_parent\"><img src=\"https://colab.research.google.com/assets/colab-badge.svg\" alt=\"Open In Colab\"/></a>"
      ]
    },
    {
      "cell_type": "code",
      "metadata": {
        "id": "7coeQLb691pl"
      },
      "source": [
        "\n",
        "%reload_ext autoreload\n",
        "%autoreload 2\n",
        "%matplotlib inline"
      ],
      "execution_count": null,
      "outputs": []
    },
    {
      "cell_type": "code",
      "metadata": {
        "id": "52obtnP795UR"
      },
      "source": [
        "from fastai.vision import *\n",
        "from fastai.metrics import error_rate\n",
        "from PIL import ImageFile\n",
        "ImageFile.LOAD_TRUNCATED_IMAGES = True\n",
        "import warnings\n",
        "warnings.filterwarnings(\"ignore\", category=UserWarning, module=\"torch.nn.functional\")\n",
        "\n",
        "\n"
      ],
      "execution_count": null,
      "outputs": []
    },
    {
      "cell_type": "code",
      "metadata": {
        "id": "uxEz0zom-AgW",
        "colab": {
          "base_uri": "https://localhost:8080/"
        },
        "outputId": "ad0e3820-a8cf-46dd-b1f6-6765f66528fc"
      },
      "source": [
        "from google.colab import drive\n",
        "from pathlib import Path\n",
        "drive.mount('/content/drive')\n",
        "path= '/content/drive/My Drive/rice'\n",
        "path = Path(path)\n",
        "data_path = path/'original dataset'\n",
        "data_path\n"
      ],
      "execution_count": null,
      "outputs": [
        {
          "output_type": "stream",
          "name": "stdout",
          "text": [
            "Mounted at /content/drive\n"
          ]
        },
        {
          "output_type": "execute_result",
          "data": {
            "text/plain": [
              "PosixPath('/content/drive/My Drive/rice/original dataset')"
            ]
          },
          "metadata": {},
          "execution_count": 3
        }
      ]
    },
    {
      "cell_type": "markdown",
      "metadata": {
        "id": "K_4ICyq8BFOu"
      },
      "source": [
        "# **Load Dataset**"
      ]
    },
    {
      "cell_type": "code",
      "metadata": {
        "id": "vHgyb_AmBPi2",
        "colab": {
          "base_uri": "https://localhost:8080/",
          "height": 800
        },
        "outputId": "75284905-061d-4ab4-c9b0-f9672d1bc85d"
      },
      "source": [
        "# **Load Dataset**\n",
        "bs = 64\n",
        "tfms = get_transforms(do_flip=False, flip_vert=True)\n",
        "data = ImageDataBunch.from_folder(data_path, ds_tfms=tfms, size=bs, valid_pct=0.2)\n",
        "data.show_batch(rows=3, figsize=(5,5))\n",
        "print(data.classes)\n",
        "len(data.classes),data.c\n",
        "data.label_list"
      ],
      "execution_count": null,
      "outputs": [
        {
          "output_type": "stream",
          "name": "stderr",
          "text": [
            "/usr/local/lib/python3.7/dist-packages/fastai/vision/transform.py:247: UserWarning: torch.solve is deprecated in favor of torch.linalg.solveand will be removed in a future PyTorch release.\n",
            "torch.linalg.solve has its arguments reversed and does not return the LU factorization.\n",
            "To get the LU factorization see torch.lu, which can be used with torch.lu_solve or torch.lu_unpack.\n",
            "X = torch.solve(B, A).solution\n",
            "should be replaced with\n",
            "X = torch.linalg.solve(A, B) (Triggered internally at  /pytorch/aten/src/ATen/native/BatchLinearAlgebra.cpp:760.)\n",
            "  return _solve_func(B,A)[0][:,0]\n"
          ]
        },
        {
          "output_type": "stream",
          "name": "stdout",
          "text": [
            "['Bacterial leaf blight', 'Brown spot', 'Leaf smut']\n"
          ]
        },
        {
          "output_type": "execute_result",
          "data": {
            "text/plain": [
              "LabelLists;\n",
              "\n",
              "Train: LabelList (96 items)\n",
              "x: ImageList\n",
              "Image (3, 64, 64),Image (3, 64, 64),Image (3, 64, 64),Image (3, 64, 64),Image (3, 64, 64)\n",
              "y: CategoryList\n",
              "Brown spot,Brown spot,Brown spot,Brown spot,Brown spot\n",
              "Path: /content/drive/My Drive/rice/original dataset;\n",
              "\n",
              "Valid: LabelList (24 items)\n",
              "x: ImageList\n",
              "Image (3, 64, 64),Image (3, 64, 64),Image (3, 64, 64),Image (3, 64, 64),Image (3, 64, 64)\n",
              "y: CategoryList\n",
              "Leaf smut,Bacterial leaf blight,Leaf smut,Brown spot,Brown spot\n",
              "Path: /content/drive/My Drive/rice/original dataset;\n",
              "\n",
              "Test: None"
            ]
          },
          "metadata": {},
          "execution_count": 4
        },
        {
          "output_type": "display_data",
          "data": {
            "image/png": "[encoded data removed]",
            "text/plain": [
              "<Figure size 360x360 with 9 Axes>"
            ]
          },
          "metadata": {
            "needs_background": "light"
          }
        }
      ]
    },
    {
      "cell_type": "markdown",
      "metadata": {
        "id": "3K2rEe7vSO1f"
      },
      "source": [
        "# DenseNet Models"
      ]
    },
    {
      "cell_type": "code",
      "metadata": {
        "id": "9_c62DLESW2M",
        "colab": {
          "base_uri": "https://localhost:8080/",
          "height": 253,
          "referenced_widgets": [
            "33a473d6181d4b4c8d5694edb42d841d",
            "938fc955b7f442bf8d653c24ccf70913",
            "4e3f67b6da13438a9501fcd042b23fec",
            "02f42f487c914dedbafbb370bb774f30",
            "1704abb8e4c44641a7a59a9e17a81363",
            "24f9debf600c437fbde882c3adaf7ec9",
            "c0d0419a2a5647749fc7bd5924328d15",
            "5115f9661ed94fed8ea70f3b50f9b906",
            "cc0624626a3c4ab0bce72466f2b3d183",
            "e224788a06ca432da41661025e01b4b6",
            "8d7c7c7b67f54384a9024fdb61c4cc8f"
          ]
        },
        "outputId": "e915ee98-adb3-4e90-cf51-86ef15ea3036"
      },
      "source": [
        "densenet_pretrained = cnn_learner(data, models.densenet201, pretrained=True, metrics=[error_rate, accuracy])\n",
        "densenet_pretrained.fit_one_cycle(5)"
      ],
      "execution_count": null,
      "outputs": [
        {
          "output_type": "stream",
          "name": "stderr",
          "text": [
            "Downloading: \"https://download.pytorch.org/models/densenet201-c1103571.pth\" to /root/.cache/torch/hub/checkpoints/densenet201-c1103571.pth\n"
          ]
        },
        {
          "output_type": "display_data",
          "data": {
            "application/vnd.jupyter.widget-view+json": {
              "model_id": "33a473d6181d4b4c8d5694edb42d841d",
              "version_minor": 0,
              "version_major": 2
            },
            "text/plain": [
              "  0%|          | 0.00/77.4M [00:00<?, ?B/s]"
            ]
          },
          "metadata": {}
        },
        {
          "output_type": "display_data",
          "data": {
            "text/html": [
              "<table border=\"1\" class=\"dataframe\">\n",
              "  <thead>\n",
              "    <tr style=\"text-align: left;\">\n",
              "      <th>epoch</th>\n",
              "      <th>train_loss</th>\n",
              "      <th>valid_loss</th>\n",
              "      <th>error_rate</th>\n",
              "      <th>accuracy</th>\n",
              "      <th>time</th>\n",
              "    </tr>\n",
              "  </thead>\n",
              "  <tbody>\n",
              "    <tr>\n",
              "      <td>0</td>\n",
              "      <td>2.070628</td>\n",
              "      <td>1.260664</td>\n",
              "      <td>0.541667</td>\n",
              "      <td>0.458333</td>\n",
              "      <td>00:22</td>\n",
              "    </tr>\n",
              "    <tr>\n",
              "      <td>1</td>\n",
              "      <td>2.047615</td>\n",
              "      <td>1.238340</td>\n",
              "      <td>0.625000</td>\n",
              "      <td>0.375000</td>\n",
              "      <td>00:07</td>\n",
              "    </tr>\n",
              "    <tr>\n",
              "      <td>2</td>\n",
              "      <td>1.779976</td>\n",
              "      <td>1.322023</td>\n",
              "      <td>0.583333</td>\n",
              "      <td>0.416667</td>\n",
              "      <td>00:07</td>\n",
              "    </tr>\n",
              "    <tr>\n",
              "      <td>3</td>\n",
              "      <td>1.523266</td>\n",
              "      <td>1.461720</td>\n",
              "      <td>0.625000</td>\n",
              "      <td>0.375000</td>\n",
              "      <td>00:07</td>\n",
              "    </tr>\n",
              "    <tr>\n",
              "      <td>4</td>\n",
              "      <td>1.306185</td>\n",
              "      <td>1.587360</td>\n",
              "      <td>0.666667</td>\n",
              "      <td>0.333333</td>\n",
              "      <td>00:07</td>\n",
              "    </tr>\n",
              "  </tbody>\n",
              "</table>"
            ],
            "text/plain": [
              "<IPython.core.display.HTML object>"
            ]
          },
          "metadata": {}
        }
      ]
    },
    {
      "cell_type": "code",
      "metadata": {
        "id": "pUnKpfHtGGL1"
      },
      "source": [
        " densenet_pretrained.recorder.plot_losses()\n",
        "densenet_pretrained.save('densenet-15-epcohs')"
      ],
      "execution_count": null,
      "outputs": []
    },
    {
      "cell_type": "code",
      "metadata": {
        "id": "okoStnBHlzd6"
      },
      "source": [
        "densenet = cnn_learner(data, models.densenet201, pretrained=False, metrics=accuracy)\n",
        "densenet.fit_one_cycle(5)"
      ],
      "execution_count": null,
      "outputs": []
    },
    {
      "cell_type": "markdown",
      "metadata": {
        "id": "BIkKHJa9qvtG"
      },
      "source": [
        "# Resnet50"
      ]
    },
    {
      "cell_type": "code",
      "metadata": {
        "id": "A1We-F69quWR"
      },
      "source": [
        "resnet50 = cnn_learner(data, models.resnet50, pretrained=True, metrics=accuracy)\n",
        "resnet50.fit_one_cycle(5)"
      ],
      "execution_count": null,
      "outputs": []
    },
    {
      "cell_type": "code",
      "metadata": {
        "id": "sntUhCsLgH9C"
      },
      "source": [
        "resnet50 = cnn_learner(data, models.resnet50, pretrained=False, metrics=accuracy)\n",
        "resnet50.fit_one_cycle(5)"
      ],
      "execution_count": null,
      "outputs": []
    },
    {
      "cell_type": "markdown",
      "metadata": {
        "id": "ZTDI7q4gy-m_"
      },
      "source": [
        "# squeezenet1_1 Model"
      ]
    },
    {
      "cell_type": "code",
      "metadata": {
        "id": "uQFc2-EKzF7S"
      },
      "source": [
        "squeezenet1_1 = cnn_learner(data, models.squeezenet1_1, pretrained=True,  metrics=accuracy)\n",
        "squeezenet1_1.fit_one_cycle(5)"
      ],
      "execution_count": null,
      "outputs": []
    },
    {
      "cell_type": "code",
      "metadata": {
        "id": "E3zf7TVSzI7p"
      },
      "source": [
        "squeezenet1_1 = cnn_learner(data, models.squeezenet1_1, pretrained=False, metrics=accuracy)\n",
        "squeezenet1_1.fit_one_cycle(5)"
      ],
      "execution_count": null,
      "outputs": []
    },
    {
      "cell_type": "markdown",
      "metadata": {
        "id": "WWBOJsilDFXs"
      },
      "source": [
        "# Pretained VGG Model"
      ]
    },
    {
      "cell_type": "code",
      "metadata": {
        "id": "q8zdER4_DM_-"
      },
      "source": [
        "learn = cnn_learner(data, models.vgg19_bn, pretrained=True, metrics=accuracy)"
      ],
      "execution_count": null,
      "outputs": []
    },
    {
      "cell_type": "code",
      "metadata": {
        "id": "pxdmrkMnEdic"
      },
      "source": [
        "learn.fit_one_cycle(5)"
      ],
      "execution_count": null,
      "outputs": []
    },
    {
      "cell_type": "markdown",
      "metadata": {
        "id": "JWM4pKg9CM-3"
      },
      "source": [
        "# **Model Interpretation**"
      ]
    },
    {
      "cell_type": "code",
      "metadata": {
        "id": "wpCaE-7BA5MF"
      },
      "source": [
        "interp = ClassificationInterpretation.from_learner(learn)\n",
        "losses,idxs = interp.top_losses()\n",
        "len(data.valid_ds)==len(losses)==len(idxs)\n",
        "interp.plot_top_losses(9, figsize=(15,11))\n",
        "interp.plot_confusion_matrix(figsize=(12,12), dpi=60)\n",
        "interp.most_confused(min_val=2)\n",
        "\n"
      ],
      "execution_count": null,
      "outputs": []
    },
    {
      "cell_type": "markdown",
      "metadata": {
        "id": "FT58sN1gBZuN"
      },
      "source": [
        "# **Saving Model**"
      ]
    },
    {
      "cell_type": "code",
      "metadata": {
        "id": "FJo5aCH2_GXx"
      },
      "source": [
        "learn.save('vgg-stage-1')"
      ],
      "execution_count": null,
      "outputs": []
    },
    {
      "cell_type": "markdown",
      "metadata": {
        "id": "3Y88UIdzCeqh"
      },
      "source": [
        "# Learning **Rate** Fine Tuning"
      ]
    },
    {
      "cell_type": "code",
      "metadata": {
        "id": "uJHhymXxLJ56",
        "colab": {
          "base_uri": "https://localhost:8080/",
          "height": 34
        },
        "outputId": "116fb735-9a59-4a28-d911-24c68aa47c34"
      },
      "source": [
        "learn.lr_find()"
      ],
      "execution_count": null,
      "outputs": [
        {
          "output_type": "display_data",
          "data": {
            "text/html": [
              ""
            ],
            "text/plain": [
              "<IPython.core.display.HTML object>"
            ]
          },
          "metadata": {
            "tags": []
          }
        },
        {
          "output_type": "stream",
          "text": [
            "LR Finder is complete, type {learner_name}.recorder.plot() to see the graph.\n"
          ],
          "name": "stdout"
        }
      ]
    },
    {
      "cell_type": "code",
      "metadata": {
        "id": "kXXC_wCrN2M1",
        "colab": {
          "base_uri": "https://localhost:8080/",
          "height": 283
        },
        "outputId": "90a05cc0-4568-4d84-9aa9-6915f90a1583"
      },
      "source": [
        "learn.recorder.plot()"
      ],
      "execution_count": null,
      "outputs": [
        {
          "output_type": "display_data",
          "data": {
            "image/png": "[encoded data removed]",
            "text/plain": [
              "<Figure size 432x288 with 1 Axes>"
            ]
          },
          "metadata": {
            "tags": []
          }
        }
      ]
    },
    {
      "cell_type": "code",
      "metadata": {
        "id": "3CxL-iHbMp_K",
        "colab": {
          "base_uri": "https://localhost:8080/",
          "height": 677
        },
        "outputId": "34c67c6c-c2e6-40b0-c87b-cb18959f18c6"
      },
      "source": [
        "learn.unfreeze()\n",
        "learn.fit_one_cycle(20, max_lr=slice(1e-6,1e-2))"
      ],
      "execution_count": null,
      "outputs": [
        {
          "output_type": "display_data",
          "data": {
            "text/html": [
              "<table border=\"1\" class=\"dataframe\">\n",
              "  <thead>\n",
              "    <tr style=\"text-align: left;\">\n",
              "      <th>epoch</th>\n",
              "      <th>train_loss</th>\n",
              "      <th>valid_loss</th>\n",
              "      <th>accuracy</th>\n",
              "      <th>time</th>\n",
              "    </tr>\n",
              "  </thead>\n",
              "  <tbody>\n",
              "    <tr>\n",
              "      <td>0</td>\n",
              "      <td>0.682794</td>\n",
              "      <td>0.482429</td>\n",
              "      <td>0.854460</td>\n",
              "      <td>06:09</td>\n",
              "    </tr>\n",
              "    <tr>\n",
              "      <td>1</td>\n",
              "      <td>0.616524</td>\n",
              "      <td>0.417584</td>\n",
              "      <td>0.882629</td>\n",
              "      <td>06:12</td>\n",
              "    </tr>\n",
              "    <tr>\n",
              "      <td>2</td>\n",
              "      <td>0.566868</td>\n",
              "      <td>0.493039</td>\n",
              "      <td>0.861502</td>\n",
              "      <td>06:10</td>\n",
              "    </tr>\n",
              "    <tr>\n",
              "      <td>3</td>\n",
              "      <td>0.580501</td>\n",
              "      <td>0.568185</td>\n",
              "      <td>0.845070</td>\n",
              "      <td>06:08</td>\n",
              "    </tr>\n",
              "    <tr>\n",
              "      <td>4</td>\n",
              "      <td>0.564343</td>\n",
              "      <td>0.374543</td>\n",
              "      <td>0.887324</td>\n",
              "      <td>06:12</td>\n",
              "    </tr>\n",
              "    <tr>\n",
              "      <td>5</td>\n",
              "      <td>0.545944</td>\n",
              "      <td>0.411475</td>\n",
              "      <td>0.906103</td>\n",
              "      <td>06:07</td>\n",
              "    </tr>\n",
              "    <tr>\n",
              "      <td>6</td>\n",
              "      <td>0.479573</td>\n",
              "      <td>0.379652</td>\n",
              "      <td>0.903756</td>\n",
              "      <td>06:10</td>\n",
              "    </tr>\n",
              "    <tr>\n",
              "      <td>7</td>\n",
              "      <td>0.423197</td>\n",
              "      <td>0.420928</td>\n",
              "      <td>0.908451</td>\n",
              "      <td>06:10</td>\n",
              "    </tr>\n",
              "    <tr>\n",
              "      <td>8</td>\n",
              "      <td>0.357540</td>\n",
              "      <td>0.300533</td>\n",
              "      <td>0.941315</td>\n",
              "      <td>06:12</td>\n",
              "    </tr>\n",
              "    <tr>\n",
              "      <td>9</td>\n",
              "      <td>0.285607</td>\n",
              "      <td>0.314823</td>\n",
              "      <td>0.931925</td>\n",
              "      <td>06:10</td>\n",
              "    </tr>\n",
              "    <tr>\n",
              "      <td>10</td>\n",
              "      <td>0.260475</td>\n",
              "      <td>0.285318</td>\n",
              "      <td>0.931925</td>\n",
              "      <td>06:11</td>\n",
              "    </tr>\n",
              "    <tr>\n",
              "      <td>11</td>\n",
              "      <td>0.221442</td>\n",
              "      <td>0.242827</td>\n",
              "      <td>0.953052</td>\n",
              "      <td>06:14</td>\n",
              "    </tr>\n",
              "    <tr>\n",
              "      <td>12</td>\n",
              "      <td>0.176531</td>\n",
              "      <td>0.242987</td>\n",
              "      <td>0.948357</td>\n",
              "      <td>06:03</td>\n",
              "    </tr>\n",
              "    <tr>\n",
              "      <td>13</td>\n",
              "      <td>0.135259</td>\n",
              "      <td>0.218902</td>\n",
              "      <td>0.957747</td>\n",
              "      <td>06:01</td>\n",
              "    </tr>\n",
              "    <tr>\n",
              "      <td>14</td>\n",
              "      <td>0.101797</td>\n",
              "      <td>0.196361</td>\n",
              "      <td>0.957747</td>\n",
              "      <td>06:04</td>\n",
              "    </tr>\n",
              "    <tr>\n",
              "      <td>15</td>\n",
              "      <td>0.085160</td>\n",
              "      <td>0.202628</td>\n",
              "      <td>0.953052</td>\n",
              "      <td>06:02</td>\n",
              "    </tr>\n",
              "    <tr>\n",
              "      <td>16</td>\n",
              "      <td>0.069926</td>\n",
              "      <td>0.194022</td>\n",
              "      <td>0.962441</td>\n",
              "      <td>06:01</td>\n",
              "    </tr>\n",
              "    <tr>\n",
              "      <td>17</td>\n",
              "      <td>0.061103</td>\n",
              "      <td>0.192754</td>\n",
              "      <td>0.962441</td>\n",
              "      <td>06:01</td>\n",
              "    </tr>\n",
              "    <tr>\n",
              "      <td>18</td>\n",
              "      <td>0.044802</td>\n",
              "      <td>0.194999</td>\n",
              "      <td>0.962441</td>\n",
              "      <td>06:01</td>\n",
              "    </tr>\n",
              "    <tr>\n",
              "      <td>19</td>\n",
              "      <td>0.036206</td>\n",
              "      <td>0.192972</td>\n",
              "      <td>0.962441</td>\n",
              "      <td>06:01</td>\n",
              "    </tr>\n",
              "  </tbody>\n",
              "</table>"
            ],
            "text/plain": [
              "<IPython.core.display.HTML object>"
            ]
          },
          "metadata": {
            "tags": []
          }
        }
      ]
    },
    {
      "cell_type": "code",
      "metadata": {
        "id": "pQUBETjXOB_F"
      },
      "source": [
        "learn.save('vgg-stage-2')\n",
        "learn.load('vgg-stage-2')\n",
        "learn.export()\n"
      ],
      "execution_count": null,
      "outputs": []
    },
    {
      "cell_type": "markdown",
      "metadata": {
        "id": "slMjwpRlYvWo"
      },
      "source": [
        "# Fine tuning DenseNet\n"
      ]
    },
    {
      "cell_type": "code",
      "metadata": {
        "id": "brIPXwic5s_e",
        "colab": {
          "base_uri": "https://localhost:8080/",
          "height": 300
        },
        "outputId": "f3a918d9-9901-4df2-8582-a856a9b3f287"
      },
      "source": [
        "densenet_pretrained.unfreeze()\n",
        "densenet_pretrained.lr_find()\n",
        "densenet_pretrained.recorder.plot()"
      ],
      "execution_count": null,
      "outputs": [
        {
          "output_type": "display_data",
          "data": {
            "text/html": [
              ""
            ],
            "text/plain": [
              "<IPython.core.display.HTML object>"
            ]
          },
          "metadata": {
            "tags": []
          }
        },
        {
          "output_type": "stream",
          "text": [
            "LR Finder is complete, type {learner_name}.recorder.plot() to see the graph.\n"
          ],
          "name": "stdout"
        },
        {
          "output_type": "display_data",
          "data": {
            "image/png": "[encoded data removed]",
            "text/plain": [
              "<Figure size 432x288 with 1 Axes>"
            ]
          },
          "metadata": {
            "tags": []
          }
        }
      ]
    },
    {
      "cell_type": "code",
      "metadata": {
        "id": "QN_m-szw-KJN"
      },
      "source": [
        "densenet_pretrained.load()\n",
        "densenet_pretrained.fit_one_cycle(10, max_lr=slice(1e-4,1e-4))"
      ],
      "execution_count": null,
      "outputs": []
    },
    {
      "cell_type": "code",
      "metadata": {
        "id": "faFuUCFzX571",
        "colab": {
          "base_uri": "https://localhost:8080/",
          "height": 363
        },
        "outputId": "970f5185-e478-4fc6-8129-f32b00b17d9a"
      },
      "source": [
        "densenet_pretrained.load('densenet-15-epcohs')\n",
        "densenet_pretrained.fit_one_cycle(10, max_lr=slice(1e-6,1e-5))"
      ],
      "execution_count": null,
      "outputs": [
        {
          "output_type": "display_data",
          "data": {
            "text/html": [
              "<table border=\"1\" class=\"dataframe\">\n",
              "  <thead>\n",
              "    <tr style=\"text-align: left;\">\n",
              "      <th>epoch</th>\n",
              "      <th>train_loss</th>\n",
              "      <th>valid_loss</th>\n",
              "      <th>error_rate</th>\n",
              "      <th>accuracy</th>\n",
              "      <th>time</th>\n",
              "    </tr>\n",
              "  </thead>\n",
              "  <tbody>\n",
              "    <tr>\n",
              "      <td>0</td>\n",
              "      <td>0.089580</td>\n",
              "      <td>0.169182</td>\n",
              "      <td>0.053991</td>\n",
              "      <td>0.946009</td>\n",
              "      <td>03:36</td>\n",
              "    </tr>\n",
              "    <tr>\n",
              "      <td>1</td>\n",
              "      <td>0.077375</td>\n",
              "      <td>0.166032</td>\n",
              "      <td>0.056338</td>\n",
              "      <td>0.943662</td>\n",
              "      <td>03:34</td>\n",
              "    </tr>\n",
              "    <tr>\n",
              "      <td>2</td>\n",
              "      <td>0.079249</td>\n",
              "      <td>0.158407</td>\n",
              "      <td>0.046948</td>\n",
              "      <td>0.953052</td>\n",
              "      <td>03:36</td>\n",
              "    </tr>\n",
              "    <tr>\n",
              "      <td>3</td>\n",
              "      <td>0.078651</td>\n",
              "      <td>0.161855</td>\n",
              "      <td>0.056338</td>\n",
              "      <td>0.943662</td>\n",
              "      <td>03:40</td>\n",
              "    </tr>\n",
              "    <tr>\n",
              "      <td>4</td>\n",
              "      <td>0.083199</td>\n",
              "      <td>0.158539</td>\n",
              "      <td>0.049296</td>\n",
              "      <td>0.950704</td>\n",
              "      <td>03:42</td>\n",
              "    </tr>\n",
              "    <tr>\n",
              "      <td>5</td>\n",
              "      <td>0.084540</td>\n",
              "      <td>0.159022</td>\n",
              "      <td>0.053991</td>\n",
              "      <td>0.946009</td>\n",
              "      <td>03:40</td>\n",
              "    </tr>\n",
              "    <tr>\n",
              "      <td>6</td>\n",
              "      <td>0.075812</td>\n",
              "      <td>0.154320</td>\n",
              "      <td>0.049296</td>\n",
              "      <td>0.950704</td>\n",
              "      <td>03:44</td>\n",
              "    </tr>\n",
              "    <tr>\n",
              "      <td>7</td>\n",
              "      <td>0.067410</td>\n",
              "      <td>0.150150</td>\n",
              "      <td>0.046948</td>\n",
              "      <td>0.953052</td>\n",
              "      <td>03:49</td>\n",
              "    </tr>\n",
              "    <tr>\n",
              "      <td>8</td>\n",
              "      <td>0.067307</td>\n",
              "      <td>0.153190</td>\n",
              "      <td>0.049296</td>\n",
              "      <td>0.950704</td>\n",
              "      <td>03:49</td>\n",
              "    </tr>\n",
              "    <tr>\n",
              "      <td>9</td>\n",
              "      <td>0.066462</td>\n",
              "      <td>0.157871</td>\n",
              "      <td>0.049296</td>\n",
              "      <td>0.950704</td>\n",
              "      <td>03:48</td>\n",
              "    </tr>\n",
              "  </tbody>\n",
              "</table>"
            ],
            "text/plain": [
              "<IPython.core.display.HTML object>"
            ]
          },
          "metadata": {
            "tags": []
          }
        }
      ]
    },
    {
      "cell_type": "code",
      "metadata": {
        "id": "4wtWP3utpzRP"
      },
      "source": [
        "densenet_pretrained.recorder.plot_losses()"
      ],
      "execution_count": null,
      "outputs": []
    },
    {
      "cell_type": "code",
      "metadata": {
        "id": "hNzxWwgjBaDJ",
        "colab": {
          "base_uri": "https://localhost:8080/",
          "height": 52
        },
        "outputId": "cbd6e8f8-bdeb-4f11-bb7e-34b06b0c40ba"
      },
      "source": [
        "path = Path('/content/drive/My Drive/plant_classification')\n",
        "%cd /content/drive/My Drive/plant_classification\n",
        "densenet_pretrained.save('densenet-fine-tuned')\n",
        "densenet_pretrained.load('densenet-fine-tuned')\n",
        "densenet_pretrained.export('densenet-fine-tuned')"
      ],
      "execution_count": null,
      "outputs": [
        {
          "output_type": "stream",
          "text": [
            "[Errno 2] No such file or directory: '/content/drive/My Drive/plant_classification'\n",
            "/content\n"
          ],
          "name": "stdout"
        }
      ]
    }
  ]
}